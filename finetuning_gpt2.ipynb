{
 "cells": [
  {
   "cell_type": "markdown",
   "metadata": {},
   "source": [
    "### Fine-tuning GPT using Compatible Pairs\n",
    "\n",
    "This file fine-tunes GPT-2 using computed pairs from the matching algorithm that exceed a certain cosine similiarity threshold."
   ]
  },
  {
   "cell_type": "code",
   "execution_count": null,
   "metadata": {},
   "outputs": [],
   "source": [
    "import pandas as pd\n",
    "from transformers import GPT2LMHeadModel, GPT2Tokenizer, TextDataset, DataCollatorForLanguageModeling, Trainer, TrainingArguments\n",
    "import ast"
   ]
  },
  {
   "cell_type": "code",
   "execution_count": null,
   "metadata": {},
   "outputs": [],
   "source": [
    "## Load in dataframes for the process\n",
    "\n",
    "matches_df = pd.read_csv('data/okcupid_matches.csv') \n",
    "matches_df = matches_df.rename(columns={'Unnamed: 0': 'Person_id'})\n",
    "\n",
    "bios_text = pd.read_csv('data/okcupid_profiles.csv')\n",
    "bios_text.reset_index(inplace=True)\n",
    "bios_text = bios_text.rename(columns={'index': 'Person_id'})\n",
    "\n",
    "## Joining the bios together\n",
    "\n",
    "bios_text.fillna(' ', inplace=True)\n",
    "bios_text['allessays'] = bios_text[['essay0', 'essay1', 'essay2', 'essay3', 'essay4', 'essay5', 'essay6', 'essay7', 'essay8']].apply(lambda x: ' '.join(x), axis=1)\n",
    "bios_text = bios_text[['Person_id', 'allessays']]\n",
    "\n",
    "## Join two df together on person_id\n",
    "\n",
    "finetune_df = pd.merge(matches_df, bios_text, on='Person_id')"
   ]
  },
  {
   "cell_type": "code",
   "execution_count": null,
   "metadata": {},
   "outputs": [],
   "source": [
    "## Preparing matches for fine tuning\n",
    "\n",
    "input_output_pairs = []\n",
    "\n",
    "for index, row in finetune_df.iterrows():\n",
    "    if row['matches'] != '[]':\n",
    "       for match in ast.literal_eval(row['matches']):\n",
    "           match_id = match[0]\n",
    "           matching_row = finetune_df[finetune_df['Person_id'] == match_id]\n",
    "           input_output_pairs.append(F\"Input: {row['allessays']}\\n\")\n",
    "           input_output_pairs.append(F\"Output: {matching_row['allessays'].iloc[0]}\\n\")\n",
    "      \n",
    "input_output_pairs = \"\".join(input_output_pairs)\n",
    "\n",
    "with open(\"input_output_pairs.txt\", \"w\") as f:\n",
    "    f.write(input_output_pairs)"
   ]
  },
  {
   "cell_type": "code",
   "execution_count": null,
   "metadata": {},
   "outputs": [],
   "source": [
    "def fine_tune_gpt2(train_file, output_dir):\n",
    "    model = GPT2LMHeadModel.from_pretrained(\"gpt2\")\n",
    "    tokenizer = GPT2Tokenizer.from_pretrained(\"gpt2\")\n",
    "\n",
    "    train_dataset = TextDataset(\n",
    "        tokenizer=tokenizer,\n",
    "        file_path=train_file,\n",
    "        block_size=128)\n",
    "\n",
    "    data_collator = DataCollatorForLanguageModeling(\n",
    "        tokenizer=tokenizer, mlm=False)\n",
    "\n",
    "    training_args = TrainingArguments(\n",
    "        output_dir=output_dir,\n",
    "        overwrite_output_dir=True,\n",
    "        num_train_epochs=3,\n",
    "        per_device_train_batch_size=4,\n",
    "        save_steps=10_000,\n",
    "        save_total_limit=2,\n",
    "    )\n",
    "\n",
    "    trainer = Trainer(\n",
    "        model=model,\n",
    "        args=training_args,\n",
    "        data_collator=data_collator,\n",
    "        train_dataset=train_dataset,\n",
    "    )\n",
    "\n",
    "    trainer.train()\n",
    "\n",
    "    model.save_pretrained(output_dir)\n",
    "    tokenizer.save_pretrained(output_dir)"
   ]
  },
  {
   "cell_type": "code",
   "execution_count": null,
   "metadata": {},
   "outputs": [],
   "source": [
    "fine_tune_gpt2(\"input_output_pairs.txt\", \"fine_tuned_model\")"
   ]
  }
 ],
 "metadata": {
  "kernelspec": {
   "display_name": "Python 3",
   "language": "python",
   "name": "python3"
  },
  "language_info": {
   "codemirror_mode": {
    "name": "ipython",
    "version": 3
   },
   "file_extension": ".py",
   "mimetype": "text/x-python",
   "name": "python",
   "nbconvert_exporter": "python",
   "pygments_lexer": "ipython3",
   "version": "3.11.6"
  }
 },
 "nbformat": 4,
 "nbformat_minor": 2
}
