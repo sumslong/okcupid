{
 "cells": [
  {
   "cell_type": "code",
   "execution_count": null,
   "metadata": {},
   "outputs": [],
   "source": [
    "import pandas as pd\n",
    "import numpy as np\n",
    "from sentence_transformers import SentenceTransformer\n",
    "from scipy.spatial.distance import cosine\n",
    "from detoxify import Detoxify"
   ]
  },
  {
   "cell_type": "code",
   "execution_count": null,
   "metadata": {},
   "outputs": [],
   "source": [
    "model = SentenceTransformer('all-MiniLM-L6-v2')\n",
    "toxic_model = Detoxify(\"original\")"
   ]
  },
  {
   "cell_type": "code",
   "execution_count": null,
   "metadata": {},
   "outputs": [],
   "source": [
    "df = pd.read_csv(\"data/okcupid_profiles.csv\")"
   ]
  },
  {
   "cell_type": "code",
   "execution_count": null,
   "metadata": {},
   "outputs": [],
   "source": [
    "# Create a biography from all essays except essay9\n",
    "\n",
    "df['bio'] = df[['essay0', 'essay1', 'essay2', 'essay3', 'essay4', 'essay5', 'essay6', 'essay7', 'essay8']].apply(lambda x: ' '.join(x), axis=1)\n",
    "df = df[df.columns.drop(list(df.filter(regex=\"essay\")))]"
   ]
  },
  {
   "cell_type": "code",
   "execution_count": null,
   "metadata": {},
   "outputs": [],
   "source": [
    "# Identify problematic users and filter them out of the data\n",
    "\n",
    "def apply_detoxify(bios):\n",
    "    return toxic_model.predict(bios)\n",
    "\n",
    "toxic_scores = pd.DataFrame([apply_detoxify(text) for text in df['bio']], index = df.index)\n",
    "\n",
    "df.drop(toxic_scores[(toxic_scores[\"severe_toxicity\"] > 0.1) | (toxic_scores[\"threat\"] > 0.01)].index, inplace=True)"
   ]
  },
  {
   "cell_type": "code",
   "execution_count": null,
   "metadata": {},
   "outputs": [],
   "source": [
    "bios = df['bio'].tolist()\n",
    "\n",
    "# Encode bios using model\n",
    "embedding_list = model.encode(bios)\n",
    "embedding_list = embedding_list.tolist()\n",
    "\n",
    "# Save embeddings and index to csv\n",
    "embedding_series = pd.Series(embedding_list, index=df.index, name=\"embedding\")\n",
    "embedding_series.to_csv('embedding_series.csv')"
   ]
  },
  {
   "cell_type": "code",
   "execution_count": null,
   "metadata": {},
   "outputs": [],
   "source": [
    "# Create preferred gender column using sexual orientation and gender identity for matching\n",
    "\n",
    "df['pref_gen'] = np.where((df[ 'sex'] == 'm') & (df['orientation'] == 'gay'), 'm', \n",
    "                        np.where((df['sex'] == 'm') & (df['orientation'] == 'straight'), 'f',\n",
    "                        np.where((df['sex'] == 'f') & (df['orientation'] == 'straight'), 'm',\n",
    "                        np.where((df['sex'] == 'f') & (df['orientation'] == 'gay'), 'f',\n",
    "                        np.where((df['orientation'] == 'bisexual'), 'all', 'no one')))))"
   ]
  },
  {
   "cell_type": "code",
   "execution_count": null,
   "metadata": {},
   "outputs": [],
   "source": [
    "def compute_cosine_similarity(target_vector, vectors):\n",
    "    similarities = []\n",
    "    for vector in vectors:\n",
    "        similarity = 1 - cosine(target_vector, vector)\n",
    "        similarities.append(similarity)\n",
    "    return similarities"
   ]
  },
  {
   "cell_type": "code",
   "execution_count": null,
   "metadata": {},
   "outputs": [],
   "source": [
    "## Function to generate and handle matches among pre-existing users\n",
    "\n",
    "def rank_matches(input_row, pref_age_lower=False, pref_age_higher=False, min_similarity_score = 0.65):\n",
    "    df_possible = df.copy()\n",
    "    if pref_age_higher:\n",
    "        df_possible = df_possible[df_possible['age'] <= df_possible.loc[input_row, 'age'] + pref_age_higher]\n",
    "    if pref_age_lower:\n",
    "        df_possible = df_possible[df_possible[\"age\"] >= df_possible.loc[input_row,'age'] - pref_age_lower]\n",
    "    if df_possible.loc[input_row,'pref_gen'] != 'all':\n",
    "        df_possible = df_possible.loc[df_possible.loc[input_row,'pref_gen'] == df_possible.loc[:,'sex'],:]\n",
    "\n",
    "    user_embeddings = embedding_series[input_row]\n",
    "\n",
    "    other_embeddings = [embedding_series[i] for i in df_possible.index]\n",
    "    cosine_similarities = compute_cosine_similarity(user_embeddings, other_embeddings)\n",
    "    similarity_scores = [(df_possible.index[index], score) for index, score in enumerate(cosine_similarities) if score >= min_similarity_score and score != 1]\n",
    "    ranked_similarity = sorted(similarity_scores, key = lambda x: x[1], reverse = True)\n",
    "\n",
    "    return ranked_similarity\n"
   ]
  },
  {
   "cell_type": "code",
   "execution_count": null,
   "metadata": {},
   "outputs": [],
   "source": [
    "df['matches'] = [rank_matches(i,10,10) for i, row in df.iterrows()]\n",
    "df['matches'].to_csv('okcupid_matches.csv') "
   ]
  },
  {
   "cell_type": "code",
   "execution_count": null,
   "metadata": {},
   "outputs": [],
   "source": [
    "## Function to handle user input to find match among pre-existing users\n",
    "\n",
    "def rank_new_input(input_str, pref_gender=False, pref_age_lower=False, pref_age_higher=False, min_similarity_score = 0.5):\n",
    "    \n",
    "    toxicity_rubric = toxic_model.predict(input_str)\n",
    "    \n",
    "    # Only compute and display matches if bio passes toxicity test\n",
    "    if toxicity_rubric['severe_toxicity'] <= .1 or toxicity_rubric['threat'] <= .01:\n",
    "        df_possible = df.copy()\n",
    "        # Perform filtering on users preference\n",
    "        if pref_gender:\n",
    "            df_possible = df_possible.loc[df_possible.loc[:,'sex'] == pref_gender, :]\n",
    "        if pref_age_higher:\n",
    "            df_possible = df_possible[df_possible.loc[:, \"age\"] <= pref_age_higher]\n",
    "        if pref_age_lower:\n",
    "            df_possible = df_possible[df_possible.loc[:, \"age\"] >= pref_age_lower]\n",
    "        user_embeddings = model.encode(input_str)\n",
    "        other_embeddings = [embedding_series[i] for i in df_possible.index]\n",
    "        # Compute and order similarities\n",
    "        cosine_similarities = compute_cosine_similarity(user_embeddings, other_embeddings)\n",
    "        similarity_scores = [(df_possible.index[index], score) for index, score in enumerate(cosine_similarities) if score >= min_similarity_score and score != 1]\n",
    "        ranked_similarity = sorted(similarity_scores, key = lambda x: x[1], reverse = True)\n",
    "        return ranked_similarity\n",
    "    \n",
    "    else:\n",
    "        return \"Your matches cannot be shown due to harmful material in your bio. Please modify and try again.\""
   ]
  }
 ],
 "metadata": {
  "kernelspec": {
   "display_name": "nlp",
   "language": "python",
   "name": "python3"
  },
  "language_info": {
   "codemirror_mode": {
    "name": "ipython",
    "version": 3
   },
   "file_extension": ".py",
   "mimetype": "text/x-python",
   "name": "python",
   "nbconvert_exporter": "python",
   "pygments_lexer": "ipython3",
   "version": "3.11.6"
  }
 },
 "nbformat": 4,
 "nbformat_minor": 2
}
